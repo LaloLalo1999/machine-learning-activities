{
 "cells": [
  {
   "cell_type": "code",
   "execution_count": 11,
   "metadata": {},
   "outputs": [],
   "source": [
    "import pandas as pd\n",
    "import numpy as np"
   ]
  },
  {
   "cell_type": "code",
   "execution_count": 3,
   "metadata": {},
   "outputs": [
    {
     "name": "stdout",
     "output_type": "stream",
     "text": [
      "|    |   ID | Start time      | Completion time   | Email     |   Name |   Last modified time |   Promedio escolar de licenciatura |   Horas de estudio por semana (por favor considera las horas dedicadas a tareas también. Sólo tiempo fuera de clase) |   Horas promedio de sueño (diario) |   Edad |   Horas promedio de uso de redes sociales (diario) | Nivel máximo de educación alcanzada por tus padres (el nivel máximo de alguno de los dos)   | ¿Trabajas?   | ¿Eres fóraneo? (Si vives con un familiar, escoge no)   |   Promedio escolar de preparatoria |   Semestre |\n",
      "|---:|-----:|:----------------|:------------------|:----------|-------:|---------------------:|-----------------------------------:|---------------------------------------------------------------------------------------------------------------------:|-----------------------------------:|-------:|---------------------------------------------------:|:--------------------------------------------------------------------------------------------|:-------------|:-------------------------------------------------------|-----------------------------------:|-----------:|\n",
      "|  0 |    1 | 9/8/24 19:23:56 | 9/8/24 19:25:43   | anonymous |    nan |                  nan |                               60   |                                                                                                                   12 |                                5   |     21 |                                                3   | Licenciatura / Ingeniería                                                                   | No           | No                                                     |                                 92 |          5 |\n",
      "|  1 |    2 | 9/8/24 19:25:14 | 9/8/24 19:32:11   | anonymous |    nan |                  nan |                               86   |                                                                                                                    4 |                                8   |     21 |                                                4   | Licenciatura / Ingeniería                                                                   | No           | No                                                     |                                 91 |          7 |\n",
      "|  2 |    3 | 9/8/24 19:26:24 | 9/8/24 19:32:48   | anonymous |    nan |                  nan |                               97   |                                                                                                                   25 |                                7   |     22 |                                                3   | Licenciatura / Ingeniería                                                                   | Sí           | Sí                                                     |                                 98 |          9 |\n",
      "|  3 |    4 | 9/8/24 19:27:44 | 9/8/24 19:34:59   | anonymous |    nan |                  nan |                               92   |                                                                                                                    8 |                                6   |     23 |                                                1.5 | Licenciatura / Ingeniería                                                                   | Sí           | No                                                     |                                 88 |          7 |\n",
      "|  4 |    5 | 9/8/24 19:38:29 | 9/8/24 19:39:43   | anonymous |    nan |                  nan |                               99   |                                                                                                                    2 |                                6   |     22 |                                                4   | Posgrado                                                                                    | Sí           | No                                                     |                                 99 |          9 |\n",
      "|  5 |    6 | 9/8/24 19:45:40 | 9/8/24 19:46:21   | anonymous |    nan |                  nan |                              100   |                                                                                                                    6 |                                7   |     20 |                                                4   | Licenciatura / Ingeniería                                                                   | No           | No                                                     |                                 98 |          7 |\n",
      "|  6 |    7 | 9/8/24 19:55:27 | 9/8/24 19:56:52   | anonymous |    nan |                  nan |                               97   |                                                                                                                   40 |                                9   |     22 |                                                1   | Posgrado                                                                                    | Sí           | No                                                     |                                 93 |          9 |\n",
      "|  7 |    8 | 9/8/24 20:47:43 | 9/8/24 20:48:38   | anonymous |    nan |                  nan |                               91   |                                                                                                                    8 |                                5   |     21 |                                                4   | Licenciatura / Ingeniería                                                                   | Sí           | No                                                     |                                 96 |          9 |\n",
      "|  8 |    9 | 9/8/24 21:26:19 | 9/8/24 21:27:00   | anonymous |    nan |                  nan |                               97   |                                                                                                                   40 |                                6   |     20 |                                                6   | Posgrado                                                                                    | Sí           | No                                                     |                                 93 |          9 |\n",
      "|  9 |   10 | 9/8/24 21:26:55 | 9/8/24 21:27:52   | anonymous |    nan |                  nan |                               89   |                                                                                                                    5 |                                3   |     24 |                                                3   | Licenciatura / Ingeniería                                                                   | Sí           | No                                                     |                                 95 |          8 |\n",
      "| 10 |   11 | 9/9/24 16:42:07 | 9/9/24 16:44:03   | anonymous |    nan |                  nan |                               85   |                                                                                                                   28 |                                6   |     23 |                                                3   | Educación secundaria                                                                        | No           | No                                                     |                                 94 |         11 |\n",
      "| 11 |   12 | 9/9/24 16:40:56 | 9/9/24 16:57:30   | anonymous |    nan |                  nan |                               93   |                                                                                                                   16 |                                7   |     23 |                                                3   | Licenciatura / Ingeniería                                                                   | No           | Sí                                                     |                                 97 |         12 |\n",
      "| 12 |   13 | 9/9/24 17:06:38 | 9/9/24 17:09:40   | anonymous |    nan |                  nan |                               95   |                                                                                                                   12 |                                7   |     23 |                                                5   | Licenciatura / Ingeniería                                                                   | Sí           | No                                                     |                                 98 |         12 |\n",
      "| 13 |   14 | 9/9/24 17:12:49 | 9/9/24 17:13:22   | anonymous |    nan |                  nan |                               99   |                                                                                                                   18 |                                7   |     23 |                                                4   | Licenciatura / Ingeniería                                                                   | No           | No                                                     |                                 93 |          8 |\n",
      "| 14 |   15 | 9/9/24 17:15:00 | 9/9/24 17:16:07   | anonymous |    nan |                  nan |                               99.6 |                                                                                                                    7 |                                7.5 |     24 |                                                1   | Licenciatura / Ingeniería                                                                   | Sí           | No                                                     |                                 93 |         10 |\n"
     ]
    }
   ],
   "source": [
    "# Load the data from uncleaned_data into a DataFrame\n",
    "df = pd.read_csv('uncleaned_data.csv')\n",
    "\n",
    "# Display the first 15 rows in a table\n",
    "print(df.head(15).to_markdown())"
   ]
  },
  {
   "cell_type": "code",
   "execution_count": 4,
   "metadata": {},
   "outputs": [
    {
     "name": "stdout",
     "output_type": "stream",
     "text": [
      "|    |   ID |   Promedio escolar de licenciatura |   Horas de estudio por semana (por favor considera las horas dedicadas a tareas también. Sólo tiempo fuera de clase) |   Horas promedio de sueño (diario) |   Edad |   Horas promedio de uso de redes sociales (diario) | Nivel máximo de educación alcanzada por tus padres (el nivel máximo de alguno de los dos)   | ¿Trabajas?   | ¿Eres fóraneo? (Si vives con un familiar, escoge no)   |   Promedio escolar de preparatoria |   Semestre |\n",
      "|---:|-----:|-----------------------------------:|---------------------------------------------------------------------------------------------------------------------:|-----------------------------------:|-------:|---------------------------------------------------:|:--------------------------------------------------------------------------------------------|:-------------|:-------------------------------------------------------|-----------------------------------:|-----------:|\n",
      "|  0 |    1 |                               60   |                                                                                                                   12 |                                5   |     21 |                                                3   | Licenciatura / Ingeniería                                                                   | No           | No                                                     |                                 92 |          5 |\n",
      "|  1 |    2 |                               86   |                                                                                                                    4 |                                8   |     21 |                                                4   | Licenciatura / Ingeniería                                                                   | No           | No                                                     |                                 91 |          7 |\n",
      "|  2 |    3 |                               97   |                                                                                                                   25 |                                7   |     22 |                                                3   | Licenciatura / Ingeniería                                                                   | Sí           | Sí                                                     |                                 98 |          9 |\n",
      "|  3 |    4 |                               92   |                                                                                                                    8 |                                6   |     23 |                                                1.5 | Licenciatura / Ingeniería                                                                   | Sí           | No                                                     |                                 88 |          7 |\n",
      "|  4 |    5 |                               99   |                                                                                                                    2 |                                6   |     22 |                                                4   | Posgrado                                                                                    | Sí           | No                                                     |                                 99 |          9 |\n",
      "|  5 |    6 |                              100   |                                                                                                                    6 |                                7   |     20 |                                                4   | Licenciatura / Ingeniería                                                                   | No           | No                                                     |                                 98 |          7 |\n",
      "|  6 |    7 |                               97   |                                                                                                                   40 |                                9   |     22 |                                                1   | Posgrado                                                                                    | Sí           | No                                                     |                                 93 |          9 |\n",
      "|  7 |    8 |                               91   |                                                                                                                    8 |                                5   |     21 |                                                4   | Licenciatura / Ingeniería                                                                   | Sí           | No                                                     |                                 96 |          9 |\n",
      "|  8 |    9 |                               97   |                                                                                                                   40 |                                6   |     20 |                                                6   | Posgrado                                                                                    | Sí           | No                                                     |                                 93 |          9 |\n",
      "|  9 |   10 |                               89   |                                                                                                                    5 |                                3   |     24 |                                                3   | Licenciatura / Ingeniería                                                                   | Sí           | No                                                     |                                 95 |          8 |\n",
      "| 10 |   11 |                               85   |                                                                                                                   28 |                                6   |     23 |                                                3   | Educación secundaria                                                                        | No           | No                                                     |                                 94 |         11 |\n",
      "| 11 |   12 |                               93   |                                                                                                                   16 |                                7   |     23 |                                                3   | Licenciatura / Ingeniería                                                                   | No           | Sí                                                     |                                 97 |         12 |\n",
      "| 12 |   13 |                               95   |                                                                                                                   12 |                                7   |     23 |                                                5   | Licenciatura / Ingeniería                                                                   | Sí           | No                                                     |                                 98 |         12 |\n",
      "| 13 |   14 |                               99   |                                                                                                                   18 |                                7   |     23 |                                                4   | Licenciatura / Ingeniería                                                                   | No           | No                                                     |                                 93 |          8 |\n",
      "| 14 |   15 |                               99.6 |                                                                                                                    7 |                                7.5 |     24 |                                                1   | Licenciatura / Ingeniería                                                                   | Sí           | No                                                     |                                 93 |         10 |\n"
     ]
    }
   ],
   "source": [
    "# Delete specified columns\n",
    "columns_to_drop = ['Start time', 'Completion time', 'Email', 'Name', 'Last modified time']\n",
    "df = df.drop(columns=columns_to_drop)\n",
    "\n",
    "# Display the first 15 rows in a table\n",
    "print(df.head(15).to_markdown())"
   ]
  },
  {
   "cell_type": "code",
   "execution_count": 7,
   "metadata": {},
   "outputs": [
    {
     "name": "stdout",
     "output_type": "stream",
     "text": [
      "|    |   Promedio escolar de licenciatura |   Horas de estudio por semana (por favor considera las horas dedicadas a tareas también. Sólo tiempo fuera de clase) |   Horas promedio de sueño (diario) |   Edad |   Horas promedio de uso de redes sociales (diario) | Nivel máximo de educación alcanzada por tus padres (el nivel máximo de alguno de los dos)   | ¿Trabajas?   | ¿Eres fóraneo? (Si vives con un familiar, escoge no)   |   Promedio escolar de preparatoria |   Semestre |\n",
      "|---:|-----------------------------------:|---------------------------------------------------------------------------------------------------------------------:|-----------------------------------:|-------:|---------------------------------------------------:|:--------------------------------------------------------------------------------------------|:-------------|:-------------------------------------------------------|-----------------------------------:|-----------:|\n",
      "|  0 |                               60   |                                                                                                                   12 |                                5   |     21 |                                                3   | Licenciatura / Ingeniería                                                                   | No           | No                                                     |                                 92 |          5 |\n",
      "|  1 |                               86   |                                                                                                                    4 |                                8   |     21 |                                                4   | Licenciatura / Ingeniería                                                                   | No           | No                                                     |                                 91 |          7 |\n",
      "|  2 |                               97   |                                                                                                                   25 |                                7   |     22 |                                                3   | Licenciatura / Ingeniería                                                                   | Sí           | Sí                                                     |                                 98 |          9 |\n",
      "|  3 |                               92   |                                                                                                                    8 |                                6   |     23 |                                                1.5 | Licenciatura / Ingeniería                                                                   | Sí           | No                                                     |                                 88 |          7 |\n",
      "|  4 |                               99   |                                                                                                                    2 |                                6   |     22 |                                                4   | Posgrado                                                                                    | Sí           | No                                                     |                                 99 |          9 |\n",
      "|  5 |                              100   |                                                                                                                    6 |                                7   |     20 |                                                4   | Licenciatura / Ingeniería                                                                   | No           | No                                                     |                                 98 |          7 |\n",
      "|  6 |                               97   |                                                                                                                   40 |                                9   |     22 |                                                1   | Posgrado                                                                                    | Sí           | No                                                     |                                 93 |          9 |\n",
      "|  7 |                               91   |                                                                                                                    8 |                                5   |     21 |                                                4   | Licenciatura / Ingeniería                                                                   | Sí           | No                                                     |                                 96 |          9 |\n",
      "|  8 |                               97   |                                                                                                                   40 |                                6   |     20 |                                                6   | Posgrado                                                                                    | Sí           | No                                                     |                                 93 |          9 |\n",
      "|  9 |                               89   |                                                                                                                    5 |                                3   |     24 |                                                3   | Licenciatura / Ingeniería                                                                   | Sí           | No                                                     |                                 95 |          8 |\n",
      "| 10 |                               85   |                                                                                                                   28 |                                6   |     23 |                                                3   | Educación secundaria                                                                        | No           | No                                                     |                                 94 |         11 |\n",
      "| 11 |                               93   |                                                                                                                   16 |                                7   |     23 |                                                3   | Licenciatura / Ingeniería                                                                   | No           | Sí                                                     |                                 97 |         12 |\n",
      "| 12 |                               95   |                                                                                                                   12 |                                7   |     23 |                                                5   | Licenciatura / Ingeniería                                                                   | Sí           | No                                                     |                                 98 |         12 |\n",
      "| 13 |                               99   |                                                                                                                   18 |                                7   |     23 |                                                4   | Licenciatura / Ingeniería                                                                   | No           | No                                                     |                                 93 |          8 |\n",
      "| 14 |                               99.6 |                                                                                                                    7 |                                7.5 |     24 |                                                1   | Licenciatura / Ingeniería                                                                   | Sí           | No                                                     |                                 93 |         10 |\n",
      "|    |   Promedio escolar de licenciatura |   Horas de estudio por semana (por favor considera las horas dedicadas a tareas también. Sólo tiempo fuera de clase) |   Horas promedio de sueño (diario) |   Edad |   Horas promedio de uso de redes sociales (diario) | Nivel máximo de educación alcanzada por tus padres (el nivel máximo de alguno de los dos)   | ¿Trabajas?   | ¿Eres fóraneo? (Si vives con un familiar, escoge no)   |   Promedio escolar de preparatoria |   Semestre |\n",
      "|---:|-----------------------------------:|---------------------------------------------------------------------------------------------------------------------:|-----------------------------------:|-------:|---------------------------------------------------:|:--------------------------------------------------------------------------------------------|:-------------|:-------------------------------------------------------|-----------------------------------:|-----------:|\n",
      "| 25 |                               92   |                                                                                                                    6 |                                  6 |     22 |                                                2   | Posgrado                                                                                    | Sí           | No                                                     |                               95   |          8 |\n",
      "| 26 |                               99.9 |                                                                                                                    8 |                                  7 |     22 |                                                3   | Posgrado                                                                                    | Sí           | No                                                     |                               95.6 |          9 |\n",
      "| 27 |                               91   |                                                                                                                    8 |                                  6 |     22 |                                                2   | Licenciatura / Ingeniería                                                                   | Sí           | Sí                                                     |                               96   |          8 |\n",
      "| 28 |                               99   |                                                                                                                    6 |                                  8 |     22 |                                                0.5 | Posgrado                                                                                    | Sí           | No                                                     |                               97   |          9 |\n",
      "| 29 |                               93   |                                                                                                                   10 |                                  6 |     22 |                                                5   | Licenciatura / Ingeniería                                                                   | Sí           | No                                                     |                               90   |          9 |\n",
      "| 30 |                               92   |                                                                                                                    5 |                                  6 |     21 |                                                2   | Posgrado                                                                                    | Sí           | No                                                     |                               95   |          8 |\n",
      "| 31 |                               91   |                                                                                                                    7 |                                  6 |     21 |                                                2   | Licenciatura / Ingeniería                                                                   | Sí           | Sí                                                     |                               97   |          9 |\n",
      "| 32 |                               90   |                                                                                                                   10 |                                  7 |     21 |                                                3   | Educación secundaria                                                                        | Sí           | Sí                                                     |                               85   |          8 |\n",
      "| 33 |                               91   |                                                                                                                    8 |                                  6 |     23 |                                                6   | Educación preparatoria                                                                      | Sí           | Sí                                                     |                               86   |          9 |\n",
      "| 34 |                               96   |                                                                                                                    2 |                                  8 |     22 |                                                3   | Licenciatura / Ingeniería                                                                   | Sí           | No                                                     |                               97   |          9 |\n",
      "| 35 |                               91   |                                                                                                                   14 |                                  7 |     21 |                                                2   | Posgrado                                                                                    | No           | No                                                     |                               97   |          6 |\n",
      "| 36 |                              100   |                                                                                                                   30 |                                  9 |     20 |                                                5   | Posgrado                                                                                    | Sí           | No                                                     |                               99   |          3 |\n",
      "| 37 |                               94.6 |                                                                                                                   13 |                                  7 |     20 |                                                3   | Educación secundaria                                                                        | Sí           | No                                                     |                               96   |          5 |\n",
      "| 38 |                               99   |                                                                                                                   26 |                                  5 |     21 |                                                2   | Licenciatura / Ingeniería                                                                   | No           | No                                                     |                               96   |          5 |\n",
      "| 39 |                               87   |                                                                                                                   12 |                                  7 |     20 |                                                3   | Licenciatura / Ingeniería                                                                   | No           | No                                                     |                               92   |          5 |\n"
     ]
    }
   ],
   "source": [
    "df = df.drop(columns=['ID'])\n",
    "\n",
    "# Display the first 15 rows in a table\n",
    "print(df.head(15).to_markdown())\n",
    "\n",
    "# Display the last 15 rows in a table\n",
    "print(df.tail(15).to_markdown())"
   ]
  },
  {
   "cell_type": "code",
   "execution_count": 8,
   "metadata": {},
   "outputs": [
    {
     "data": {
      "text/html": [
       "<div>\n",
       "<style scoped>\n",
       "    .dataframe tbody tr th:only-of-type {\n",
       "        vertical-align: middle;\n",
       "    }\n",
       "\n",
       "    .dataframe tbody tr th {\n",
       "        vertical-align: top;\n",
       "    }\n",
       "\n",
       "    .dataframe thead th {\n",
       "        text-align: right;\n",
       "    }\n",
       "</style>\n",
       "<table border=\"1\" class=\"dataframe\">\n",
       "  <thead>\n",
       "    <tr style=\"text-align: right;\">\n",
       "      <th></th>\n",
       "      <th>Promedio escolar de licenciatura</th>\n",
       "      <th>Horas de estudio por semana (por favor considera las horas dedicadas a tareas también. Sólo tiempo fuera de clase)</th>\n",
       "      <th>Horas promedio de sueño (diario)</th>\n",
       "      <th>Edad</th>\n",
       "      <th>Horas promedio de uso de redes sociales (diario)</th>\n",
       "      <th>Promedio escolar de preparatoria</th>\n",
       "      <th>Semestre</th>\n",
       "    </tr>\n",
       "  </thead>\n",
       "  <tbody>\n",
       "    <tr>\n",
       "      <th>count</th>\n",
       "      <td>40.000000</td>\n",
       "      <td>40.000000</td>\n",
       "      <td>40.000000</td>\n",
       "      <td>40.000000</td>\n",
       "      <td>40.000000</td>\n",
       "      <td>40.000000</td>\n",
       "      <td>40.000000</td>\n",
       "    </tr>\n",
       "    <tr>\n",
       "      <th>mean</th>\n",
       "      <td>92.792500</td>\n",
       "      <td>14.800000</td>\n",
       "      <td>6.512500</td>\n",
       "      <td>22.125000</td>\n",
       "      <td>2.900000</td>\n",
       "      <td>93.465000</td>\n",
       "      <td>8.150000</td>\n",
       "    </tr>\n",
       "    <tr>\n",
       "      <th>std</th>\n",
       "      <td>7.123035</td>\n",
       "      <td>12.568173</td>\n",
       "      <td>1.140667</td>\n",
       "      <td>2.138625</td>\n",
       "      <td>1.321421</td>\n",
       "      <td>4.478184</td>\n",
       "      <td>1.942111</td>\n",
       "    </tr>\n",
       "    <tr>\n",
       "      <th>min</th>\n",
       "      <td>60.000000</td>\n",
       "      <td>2.000000</td>\n",
       "      <td>3.000000</td>\n",
       "      <td>20.000000</td>\n",
       "      <td>0.500000</td>\n",
       "      <td>80.000000</td>\n",
       "      <td>3.000000</td>\n",
       "    </tr>\n",
       "    <tr>\n",
       "      <th>25%</th>\n",
       "      <td>91.000000</td>\n",
       "      <td>6.000000</td>\n",
       "      <td>6.000000</td>\n",
       "      <td>21.000000</td>\n",
       "      <td>2.000000</td>\n",
       "      <td>92.000000</td>\n",
       "      <td>7.000000</td>\n",
       "    </tr>\n",
       "    <tr>\n",
       "      <th>50%</th>\n",
       "      <td>93.500000</td>\n",
       "      <td>10.000000</td>\n",
       "      <td>6.000000</td>\n",
       "      <td>22.000000</td>\n",
       "      <td>3.000000</td>\n",
       "      <td>94.500000</td>\n",
       "      <td>8.000000</td>\n",
       "    </tr>\n",
       "    <tr>\n",
       "      <th>75%</th>\n",
       "      <td>97.250000</td>\n",
       "      <td>20.500000</td>\n",
       "      <td>7.000000</td>\n",
       "      <td>23.000000</td>\n",
       "      <td>4.000000</td>\n",
       "      <td>97.000000</td>\n",
       "      <td>9.000000</td>\n",
       "    </tr>\n",
       "    <tr>\n",
       "      <th>max</th>\n",
       "      <td>100.000000</td>\n",
       "      <td>60.000000</td>\n",
       "      <td>9.000000</td>\n",
       "      <td>33.000000</td>\n",
       "      <td>6.000000</td>\n",
       "      <td>99.000000</td>\n",
       "      <td>12.000000</td>\n",
       "    </tr>\n",
       "  </tbody>\n",
       "</table>\n",
       "</div>"
      ],
      "text/plain": [
       "       Promedio escolar de licenciatura  \\\n",
       "count                         40.000000   \n",
       "mean                          92.792500   \n",
       "std                            7.123035   \n",
       "min                           60.000000   \n",
       "25%                           91.000000   \n",
       "50%                           93.500000   \n",
       "75%                           97.250000   \n",
       "max                          100.000000   \n",
       "\n",
       "       Horas de estudio por semana (por favor considera las horas dedicadas a tareas también. Sólo tiempo fuera de clase)  \\\n",
       "count                                          40.000000                                                                    \n",
       "mean                                           14.800000                                                                    \n",
       "std                                            12.568173                                                                    \n",
       "min                                             2.000000                                                                    \n",
       "25%                                             6.000000                                                                    \n",
       "50%                                            10.000000                                                                    \n",
       "75%                                            20.500000                                                                    \n",
       "max                                            60.000000                                                                    \n",
       "\n",
       "       Horas promedio de sueño (diario)       Edad  \\\n",
       "count                         40.000000  40.000000   \n",
       "mean                           6.512500  22.125000   \n",
       "std                            1.140667   2.138625   \n",
       "min                            3.000000  20.000000   \n",
       "25%                            6.000000  21.000000   \n",
       "50%                            6.000000  22.000000   \n",
       "75%                            7.000000  23.000000   \n",
       "max                            9.000000  33.000000   \n",
       "\n",
       "       Horas promedio de uso de redes sociales (diario)  \\\n",
       "count                                         40.000000   \n",
       "mean                                           2.900000   \n",
       "std                                            1.321421   \n",
       "min                                            0.500000   \n",
       "25%                                            2.000000   \n",
       "50%                                            3.000000   \n",
       "75%                                            4.000000   \n",
       "max                                            6.000000   \n",
       "\n",
       "       Promedio escolar de preparatoria   Semestre  \n",
       "count                         40.000000  40.000000  \n",
       "mean                          93.465000   8.150000  \n",
       "std                            4.478184   1.942111  \n",
       "min                           80.000000   3.000000  \n",
       "25%                           92.000000   7.000000  \n",
       "50%                           94.500000   8.000000  \n",
       "75%                           97.000000   9.000000  \n",
       "max                           99.000000  12.000000  "
      ]
     },
     "execution_count": 8,
     "metadata": {},
     "output_type": "execute_result"
    }
   ],
   "source": [
    "df.describe()"
   ]
  },
  {
   "cell_type": "code",
   "execution_count": 12,
   "metadata": {},
   "outputs": [
    {
     "name": "stdout",
     "output_type": "stream",
     "text": [
      "|    |   Promedio escolar de licenciatura |   Horas de estudio por semana (por favor considera las horas dedicadas a tareas también. Sólo tiempo fuera de clase) |   Horas promedio de sueño (diario) |   Edad |   Horas promedio de uso de redes sociales (diario) |   Promedio escolar de preparatoria |   Semestre |\n",
      "|---:|-----------------------------------:|---------------------------------------------------------------------------------------------------------------------:|-----------------------------------:|-------:|---------------------------------------------------:|-----------------------------------:|-----------:|\n",
      "|  0 |                               60   |                                                                                                                   12 |                                5   |     21 |                                                3   |                                 92 |          5 |\n",
      "|  1 |                               86   |                                                                                                                    4 |                                8   |     21 |                                                4   |                                 91 |          7 |\n",
      "|  2 |                               97   |                                                                                                                   25 |                                7   |     22 |                                                3   |                                 98 |          9 |\n",
      "|  3 |                               92   |                                                                                                                    8 |                                6   |     23 |                                                1.5 |                                 88 |          7 |\n",
      "|  4 |                               99   |                                                                                                                    2 |                                6   |     22 |                                                4   |                                 99 |          9 |\n",
      "|  5 |                              100   |                                                                                                                    6 |                                7   |     20 |                                                4   |                                 98 |          7 |\n",
      "|  6 |                               97   |                                                                                                                   40 |                                9   |     22 |                                                1   |                                 93 |          9 |\n",
      "|  7 |                               91   |                                                                                                                    8 |                                5   |     21 |                                                4   |                                 96 |          9 |\n",
      "|  8 |                               97   |                                                                                                                   40 |                                6   |     20 |                                                6   |                                 93 |          9 |\n",
      "|  9 |                               89   |                                                                                                                    5 |                                3   |     24 |                                                3   |                                 95 |          8 |\n",
      "| 10 |                               85   |                                                                                                                   28 |                                6   |     23 |                                                3   |                                 94 |         11 |\n",
      "| 11 |                               93   |                                                                                                                   16 |                                7   |     23 |                                                3   |                                 97 |         12 |\n",
      "| 12 |                               95   |                                                                                                                   12 |                                7   |     23 |                                                5   |                                 98 |         12 |\n",
      "| 13 |                               99   |                                                                                                                   18 |                                7   |     23 |                                                4   |                                 93 |          8 |\n",
      "| 14 |                               99.6 |                                                                                                                    7 |                                7.5 |     24 |                                                1   |                                 93 |         10 |\n"
     ]
    }
   ],
   "source": [
    "# Keep only numeric columns\n",
    "df = df.select_dtypes(include=[np.number])\n",
    "\n",
    "# Display the first 15 rows in a table\n",
    "print(df.head(15).to_markdown())"
   ]
  },
  {
   "cell_type": "code",
   "execution_count": 13,
   "metadata": {},
   "outputs": [
    {
     "name": "stdout",
     "output_type": "stream",
     "text": [
      "(40, 7)\n"
     ]
    }
   ],
   "source": [
    "print(df.shape)"
   ]
  },
  {
   "cell_type": "code",
   "execution_count": 15,
   "metadata": {},
   "outputs": [],
   "source": [
    "# Save the cleaned data to a new CSV file\n",
    "df.to_csv('cleaned_data.csv', index=False)"
   ]
  },
  {
   "cell_type": "code",
   "execution_count": null,
   "metadata": {},
   "outputs": [],
   "source": []
  }
 ],
 "metadata": {
  "kernelspec": {
   "display_name": "base",
   "language": "python",
   "name": "python3"
  },
  "language_info": {
   "codemirror_mode": {
    "name": "ipython",
    "version": 3
   },
   "file_extension": ".py",
   "mimetype": "text/x-python",
   "name": "python",
   "nbconvert_exporter": "python",
   "pygments_lexer": "ipython3",
   "version": "3.11.7"
  }
 },
 "nbformat": 4,
 "nbformat_minor": 2
}
