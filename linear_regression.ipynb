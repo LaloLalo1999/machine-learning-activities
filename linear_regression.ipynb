{
 "cells": [
  {
   "cell_type": "code",
   "execution_count": 1,
   "metadata": {},
   "outputs": [
    {
     "name": "stderr",
     "output_type": "stream",
     "text": [
      "Matplotlib is building the font cache; this may take a moment.\n"
     ]
    },
    {
     "name": "stdout",
     "output_type": "stream",
     "text": [
      "   Promedio escolar de licenciatura  \\\n",
      "0                              60.0   \n",
      "1                              86.0   \n",
      "2                              97.0   \n",
      "3                              92.0   \n",
      "4                              99.0   \n",
      "\n",
      "   Horas de estudio por semana (por favor considera las horas dedicadas a tareas también. Sólo tiempo fuera de clase)  \\\n",
      "0                                                 12                                                                    \n",
      "1                                                  4                                                                    \n",
      "2                                                 25                                                                    \n",
      "3                                                  8                                                                    \n",
      "4                                                  2                                                                    \n",
      "\n",
      "   Horas promedio de sueño (diario)  Edad  \\\n",
      "0                               5.0    21   \n",
      "1                               8.0    21   \n",
      "2                               7.0    22   \n",
      "3                               6.0    23   \n",
      "4                               6.0    22   \n",
      "\n",
      "   Horas promedio de uso de redes sociales (diario)  \\\n",
      "0                                               3.0   \n",
      "1                                               4.0   \n",
      "2                                               3.0   \n",
      "3                                               1.5   \n",
      "4                                               4.0   \n",
      "\n",
      "   Promedio escolar de preparatoria  Semestre  \n",
      "0                              92.0         5  \n",
      "1                              91.0         7  \n",
      "2                              98.0         9  \n",
      "3                              88.0         7  \n",
      "4                              99.0         9  \n",
      "    Promedio escolar de licenciatura  \\\n",
      "35                              91.0   \n",
      "36                             100.0   \n",
      "37                              94.6   \n",
      "38                              99.0   \n",
      "39                              87.0   \n",
      "\n",
      "    Horas de estudio por semana (por favor considera las horas dedicadas a tareas también. Sólo tiempo fuera de clase)  \\\n",
      "35                                                 14                                                                    \n",
      "36                                                 30                                                                    \n",
      "37                                                 13                                                                    \n",
      "38                                                 26                                                                    \n",
      "39                                                 12                                                                    \n",
      "\n",
      "    Horas promedio de sueño (diario)  Edad  \\\n",
      "35                               7.0    21   \n",
      "36                               9.0    20   \n",
      "37                               7.0    20   \n",
      "38                               5.0    21   \n",
      "39                               7.0    20   \n",
      "\n",
      "    Horas promedio de uso de redes sociales (diario)  \\\n",
      "35                                               2.0   \n",
      "36                                               5.0   \n",
      "37                                               3.0   \n",
      "38                                               2.0   \n",
      "39                                               3.0   \n",
      "\n",
      "    Promedio escolar de preparatoria  Semestre  \n",
      "35                              97.0         6  \n",
      "36                              99.0         3  \n",
      "37                              96.0         5  \n",
      "38                              96.0         5  \n",
      "39                              92.0         5  \n"
     ]
    }
   ],
   "source": [
    "# Linear Regression Model using Gradient Descent and TensorFlow to predict the grades of students based on 6 different features\n",
    "\n",
    "import tensorflow as tf\n",
    "import numpy as np\n",
    "import pandas as pd\n",
    "import matplotlib.pyplot as plt\n",
    "\n",
    "# Load the data\n",
    "df = pd.read_csv('cleaned_data.csv')\n",
    "\n",
    "# Display the first 5 rows of the DataFrame\n",
    "print(df.head())\n",
    "\n",
    "# Display the last 5 rows of the DataFrame\n",
    "print(df.tail())"
   ]
  },
  {
   "cell_type": "code",
   "execution_count": 6,
   "metadata": {},
   "outputs": [
    {
     "name": "stdout",
     "output_type": "stream",
     "text": [
      "[14.8     6.5125 22.125   2.9    93.465   8.15  ]\n",
      "92.79249999999999\n"
     ]
    }
   ],
   "source": [
    "\n",
    "# Create tensors\n",
    "data = tf.constant(df.values)\n",
    "\n",
    "# Separate features and labels\n",
    "features = data[:, 1:]\n",
    "labels = data[:, 0]\n",
    "\n",
    "# Normalize the features\n",
    "mean = tf.reduce_mean(features, axis=0)\n",
    "mean_labels = tf.reduce_mean(labels, axis=0)\n",
    "\n",
    "print(mean.numpy())\n",
    "print(mean_labels.numpy())\n"
   ]
  },
  {
   "cell_type": "code",
   "execution_count": null,
   "metadata": {},
   "outputs": [],
   "source": [
    "# Create the model (initialize the trainable variables)\n",
    "\n",
    "# Generate the group of data (Xtrain, Ytrain) and (Xval, Yval)\n",
    "\n",
    "# Yp = model(Xtrain)\n",
    "\n",
    "# cost = cost_function(Ytrain, Yp)\n",
    "\n",
    "# gradients = calculate_gradients(cost, model.trainable_variables)\n",
    "\n",
    "# update_parameters(model.trainable_variables, learning_rate, gradients)\n",
    "\n",
    "# Yp = model(Xval)\n",
    "\n",
    "# cost_val = cost_function(Yval, Yp)\n",
    "\n"
   ]
  }
 ],
 "metadata": {
  "kernelspec": {
   "display_name": "Python 3",
   "language": "python",
   "name": "python3"
  },
  "language_info": {
   "codemirror_mode": {
    "name": "ipython",
    "version": 3
   },
   "file_extension": ".py",
   "mimetype": "text/x-python",
   "name": "python",
   "nbconvert_exporter": "python",
   "pygments_lexer": "ipython3",
   "version": "3.11.7"
  }
 },
 "nbformat": 4,
 "nbformat_minor": 2
}
